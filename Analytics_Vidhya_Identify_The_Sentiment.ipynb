{
 "cells": [
  {
   "cell_type": "markdown",
   "metadata": {
    "colab_type": "text",
    "id": "y7cYGHoUjrRj"
   },
   "source": [
    "# Problem Statement"
   ]
  },
  {
   "cell_type": "markdown",
   "metadata": {
    "colab_type": "text",
    "id": "isb0t8tOj3Ev"
   },
   "source": [
    "Sentiment analysis remains one of the key problems that has seen extensive application of natural language processing. This time around, given the tweets from customers about various tech firms who manufacture and sell mobiles, computers, laptops, etc, *the task is to identify if the tweets have a negative sentiment towards such companies or products.*\n",
    "___\n",
    "\n",
    "**Evaluation Metric**: The metric used for evaluating the performance of classification model would be weighted F1-Score.\n",
    "\n",
    "**Data**\n",
    "\n",
    "- **train.csv** - For training the models, we provide a labelled dataset of 7920 tweets. The dataset is provided in the form of a csv file with each line storing a tweet id, its label and the tweet.\n",
    "\n",
    "- **test.csv** - The test data file contains only tweet ids and the tweet text with each tweet in a new line.\n",
    "\n",
    "- **sample_submission.csv** - The exact format for a valid submission\n",
    "\n",
    "Most profane and vulgar terms in the tweets have been replaced with “$&@*#”. However, please note that the dataset still might contain text that may be considered profane, vulgar, or offensive.\n",
    "___"
   ]
  },
  {
   "cell_type": "markdown",
   "metadata": {
    "colab_type": "text",
    "id": "EMp1CPaykTSD"
   },
   "source": [
    "# Solution Approach\n",
    "\n",
    "We will be using **fastai** in order to build a sentiment analysis model in order to predict the sentiment score of tweets.\n",
    "\n",
    "**fastai** is a libray in python built on top of PyTorch for performing Deep Learning tasks developed by Rachel Thomas, Jeremy Howard and others which is easy to use, intuitive to understand and also gives decent results which are comparable with state-of-the-art models."
   ]
  },
  {
   "cell_type": "code",
   "execution_count": null,
   "metadata": {
    "colab": {
     "base_uri": "https://localhost:8080/",
     "height": 596
    },
    "colab_type": "code",
    "id": "85hq-ghWlGQj",
    "outputId": "367d64ed-20be-46c5-87b0-fb12650edcc1",
    "scrolled": true
   },
   "outputs": [],
   "source": [
    "import pandas as pd                                                             # To create a dataframe out of the given data and also to store predictions eventually in csv format\n",
    "pd.set_option('display.max_colwidth', -1)                                       # To view the complete tweet, otherwise portions of tweets are hidden or not visible\n",
    "import numpy as np                                                              # For matrix & linear algebra related applications\n",
    "import os                                                                       # For navigating files and repos\n",
    "\n",
    "import warnings                                                                 # To suppress unnecessary warnings\n",
    "warnings.filterwarnings('ignore')\n",
    "\n",
    "from sklearn import metrics                                                     # For analyzing the results and picking the right threshold for binary classification\n",
    "import matplotlib.pyplot as plt                                                 # For plotting graphs\n",
    "from matplotlib import rcParams                                                 # For plotting appropriate sized figures\n",
    "%matplotlib inline\n",
    "\n",
    "from google.colab import drive                                                  # This is where we get the data from (i.e. drive)\n",
    "drive.mount('/content/drive', force_remount = True)\n",
    "\n",
    "%reload_ext autoreload                                                          # To refresh a file immediately and always make the latest versions of loaded files available\n",
    "%autoreload 2"
   ]
  },
  {
   "cell_type": "markdown",
   "metadata": {
    "colab_type": "text",
    "id": "dHK_rnm2pWjf"
   },
   "source": [
    "# Setting up fastai\n",
    "\n",
    "You can refer [this website](https://course.fast.ai/start_colab.html) to set fastai for any environment you may be working on. It's better to refer these over other personal tutorials and stuff because it is directly from the developers and they update it periodically with new releases and stuff. \n",
    "\n",
    "The left margin contains options to configure fastai for various instances. Check that out depending on which system you're working on."
   ]
  },
  {
   "cell_type": "code",
   "execution_count": 147,
   "metadata": {
    "colab": {
     "base_uri": "https://localhost:8080/",
     "height": 54
    },
    "colab_type": "code",
    "id": "RYPaxI_DlS4B",
    "outputId": "e915c71e-bff2-4d10-9452-36d761df91ab"
   },
   "outputs": [
    {
     "name": "stdout",
     "output_type": "stream",
     "text": [
      "Updating fastai...\n",
      "Done.\n"
     ]
    }
   ],
   "source": [
    "!curl -s https://course.fast.ai/setup/colab | bash"
   ]
  },
  {
   "cell_type": "code",
   "execution_count": 0,
   "metadata": {
    "colab": {},
    "colab_type": "code",
    "id": "Xt2-Glc1w3yn"
   },
   "outputs": [],
   "source": [
    "from fastai import *\n",
    "from fastai.text import *"
   ]
  },
  {
   "cell_type": "code",
   "execution_count": 149,
   "metadata": {
    "colab": {
     "base_uri": "https://localhost:8080/",
     "height": 308
    },
    "colab_type": "code",
    "id": "EBLar-LmvzX1",
    "outputId": "d12e187b-c36d-4158-80f0-2f196540e6ac"
   },
   "outputs": [
    {
     "name": "stdout",
     "output_type": "stream",
     "text": [
      "Thu Feb 27 15:06:41 2020       \n",
      "+-----------------------------------------------------------------------------+\n",
      "| NVIDIA-SMI 440.48.02    Driver Version: 418.67       CUDA Version: 10.1     |\n",
      "|-------------------------------+----------------------+----------------------+\n",
      "| GPU  Name        Persistence-M| Bus-Id        Disp.A | Volatile Uncorr. ECC |\n",
      "| Fan  Temp  Perf  Pwr:Usage/Cap|         Memory-Usage | GPU-Util  Compute M. |\n",
      "|===============================+======================+======================|\n",
      "|   0  Tesla P100-PCIE...  Off  | 00000000:00:04.0 Off |                    0 |\n",
      "| N/A   37C    P0    30W / 250W |   2791MiB / 16280MiB |      0%      Default |\n",
      "+-------------------------------+----------------------+----------------------+\n",
      "                                                                               \n",
      "+-----------------------------------------------------------------------------+\n",
      "| Processes:                                                       GPU Memory |\n",
      "|  GPU       PID   Type   Process name                             Usage      |\n",
      "|=============================================================================|\n",
      "+-----------------------------------------------------------------------------+\n"
     ]
    }
   ],
   "source": [
    "!nvidia-smi                                                                     # To check what version of GPU is made available for this instance of Colab"
   ]
  },
  {
   "cell_type": "markdown",
   "metadata": {
    "colab_type": "text",
    "id": "K33vlb5Ep0Nq"
   },
   "source": [
    "# Data Preparation\n",
    "\n",
    "In any deep learning application, building the model is relatively a trivial job compared to the task of preprocessing it and brining it into a form where you can feed it to the network/model.\n",
    "\n",
    "fastai provides a lot of different options to facilitate easy loading of data. \n",
    "\n",
    "Our data here is given in a `csv` file. We can load it into a pandas dataframe with an *appropriate encoding scheme* and then build our dataset based on these dataframes. I would highly recommend to follow this notebook along with [this tutorial](https://www.youtube.com/watch?v=qqt3aMPB81c) as everything would make sense pretty easily after you've watched this video.\n",
    "\n",
    "Let's read in the dataset and see how it's structured and also a few entries from these datasets."
   ]
  },
  {
   "cell_type": "code",
   "execution_count": 0,
   "metadata": {
    "colab": {},
    "colab_type": "code",
    "id": "KyPEel0vv1Gl"
   },
   "outputs": [],
   "source": [
    "base_dir = '/content/drive/My Drive'\n",
    "os.chdir(base_dir)"
   ]
  },
  {
   "cell_type": "code",
   "execution_count": 0,
   "metadata": {
    "colab": {},
    "colab_type": "code",
    "id": "SE7dHwz-wAi8"
   },
   "outputs": [],
   "source": [
    "train_data = pd.read_csv(base_dir + '/Analytics_Vidhya_Identify_The_Sentiment/train.csv', encoding='latin-1')\n",
    "test = pd.read_csv(base_dir + '/Analytics_Vidhya_Identify_The_Sentiment/test.csv', encoding = 'latin-1')"
   ]
  },
  {
   "cell_type": "code",
   "execution_count": 0,
   "metadata": {
    "colab": {},
    "colab_type": "code",
    "id": "bkanaYqP0F-7"
   },
   "outputs": [],
   "source": [
    "from sklearn.model_selection import train_test_split\n",
    "train, valid = train_test_split(train_data, test_size = .1,random_state = 128)"
   ]
  },
  {
   "cell_type": "code",
   "execution_count": 153,
   "metadata": {
    "colab": {
     "base_uri": "https://localhost:8080/",
     "height": 198
    },
    "colab_type": "code",
    "id": "XM1A6O9cwQWI",
    "outputId": "d3168bed-4cb3-40e0-9b2f-b1342b9b6795"
   },
   "outputs": [
    {
     "data": {
      "text/html": [
       "<div>\n",
       "<style scoped>\n",
       "    .dataframe tbody tr th:only-of-type {\n",
       "        vertical-align: middle;\n",
       "    }\n",
       "\n",
       "    .dataframe tbody tr th {\n",
       "        vertical-align: top;\n",
       "    }\n",
       "\n",
       "    .dataframe thead th {\n",
       "        text-align: right;\n",
       "    }\n",
       "</style>\n",
       "<table border=\"1\" class=\"dataframe\">\n",
       "  <thead>\n",
       "    <tr style=\"text-align: right;\">\n",
       "      <th></th>\n",
       "      <th>id</th>\n",
       "      <th>label</th>\n",
       "      <th>tweet</th>\n",
       "    </tr>\n",
       "  </thead>\n",
       "  <tbody>\n",
       "    <tr>\n",
       "      <th>867</th>\n",
       "      <td>868</td>\n",
       "      <td>0</td>\n",
       "      <td>Hello you ! #samsung #galaxys8 #borderless #phone #new #nice â¦ https://www.instagram.com/p/BTG2rFRhclvCJX1PkLWNrA3YVQSlF-OR5x-N_I0/ â¦</td>\n",
       "    </tr>\n",
       "    <tr>\n",
       "      <th>1362</th>\n",
       "      <td>1363</td>\n",
       "      <td>0</td>\n",
       "      <td>Happy Birthday to my Awesome Mommy! :) She's the best!! #mom #birthday #iphone #collage #kittyâ¦ http://instagr.am/p/Vj2_juTXLD/</td>\n",
       "    </tr>\n",
       "    <tr>\n",
       "      <th>1420</th>\n",
       "      <td>1421</td>\n",
       "      <td>0</td>\n",
       "      <td>Gentle creative digital art CHILDREN OF THE UNIVERSE http://bit.ly/14KPcqh #green #colors #home #decor #design #iPhone #cases</td>\n",
       "    </tr>\n",
       "    <tr>\n",
       "      <th>66</th>\n",
       "      <td>67</td>\n",
       "      <td>0</td>\n",
       "      <td>Photo: Can I love you less? No. #pink #iPhone #random #instamood #photography loljk http://tmblr.co/Z3TxIw14VJQl0</td>\n",
       "    </tr>\n",
       "    <tr>\n",
       "      <th>2388</th>\n",
       "      <td>2389</td>\n",
       "      <td>0</td>\n",
       "      <td>I love the smell of a new computer. Let's hope this one also last 8 years. #Apple #Mac #i7 #32GB #iMac #GeekPornpic.twitter.com/55sZgVxhmC</td>\n",
       "    </tr>\n",
       "  </tbody>\n",
       "</table>\n",
       "</div>"
      ],
      "text/plain": [
       "        id  ...                                                                                                                                       tweet\n",
       "867   868   ...  Hello you ! #samsung #galaxys8 #borderless #phone #new #nice â¦ https://www.instagram.com/p/BTG2rFRhclvCJX1PkLWNrA3YVQSlF-OR5x-N_I0/ â¦ \n",
       "1362  1363  ...  Happy Birthday to my Awesome Mommy! :) She's the best!! #mom #birthday #iphone #collage #kittyâ¦ http://instagr.am/p/Vj2_juTXLD/         \n",
       "1420  1421  ...  Gentle creative digital art CHILDREN OF THE UNIVERSE http://bit.ly/14KPcqh #green #colors #home #decor #design #iPhone #cases             \n",
       "66    67    ...  Photo: Can I love you less? No. #pink #iPhone #random #instamood #photography loljk http://tmblr.co/Z3TxIw14VJQl0                         \n",
       "2388  2389  ...  I love the smell of a new computer. Let's hope this one also last 8 years. #Apple #Mac #i7 #32GB #iMac #GeekPornpic.twitter.com/55sZgVxhmC\n",
       "\n",
       "[5 rows x 3 columns]"
      ]
     },
     "execution_count": 153,
     "metadata": {
      "tags": []
     },
     "output_type": "execute_result"
    }
   ],
   "source": [
    "train.head()"
   ]
  },
  {
   "cell_type": "markdown",
   "metadata": {
    "colab_type": "text",
    "id": "mkYZiaXZtMHk"
   },
   "source": [
    "# Language Model\n",
    "\n",
    "A Language Mode simply stated is a network which learns to predict the next word in a sentence based on current word and this iteratively continues forever until you manually put a stopping condition.\n",
    "\n",
    "**Why would a language model help here?** \n",
    "\n",
    "The words in the review, they are meant to convey the emotion of a person based on which the label is assigned. A sequence of words is the input in this case and the sentiment underlying that sequence is the output. In order to build a network that learns to determine the sentiment, we will have to build a model that can handle a sequence input and return only one output. \n",
    "\n",
    "RNN *i.e. Recurrent Neural Networks* like LSTM networks or GRU Networks are capable of handling such data. But in order to build these, it's essential to express words as vectors as the network doesn't understand anything except numbers.\n",
    "\n",
    ">In the process of building a language model, we learn the best way to numerically represent words as one-dimensional tensors which encapsulate contextual worldly knowledge which subsequently helps in classification.\n",
    "\n",
    "Well, it's always better to start with a good set of weights than arbitrarily anyhow. So, fastai provides a language model which is trained on the entire Wikipedia Corpus and one start with the weights/coefficients of this model and then let the language model learn on the user-specified corpus. This can fine-tune the word-vector weights for a more targeted application.\n",
    "___\n",
    "\n",
    "For building a loader to fit a language model learner, fastai provides a class called `TextLMDataBunch` which creates a databunch object for systematically loading data into model for learning. There are several methods which could be used to initialize this object\n",
    "- *from_csv*: If your data is in a csv format, you can use this method.\n",
    "\n",
    "- *from_df*: If you've got a pandas dataframe in which you have loaded data and you want to build your dataset using this dataframe, this is the option you select.\n",
    "\n",
    "- *from folder*: If your data is neatly organized in train, test folders and within them there are sub-folders for every class, then this method is well-suited to load your data.\n",
    "___\n",
    "\n",
    "Once you've loaded the data, you need to build a language model learner object to which you'll have to pass the databunch you just defined above and an architecture. This architecture could be the WikiText103 model learner which you can specify saying `AWD_LSTM` while passing the arch parameter of the language_model_learner.\n",
    "___\n",
    "Subsequently you can find the learning rate and train the model first with the end layers unfreezed and subsequently with all the layers unfreezed and you should see the accuracy metric rise. \n",
    "\n",
    "**Remember that even an accuracy of 30% or more is great for this model because this isn't our generic classification model; It's a language model. What this means is that given a sentence and if asked to predict the next word then the model is gonna predict a sensible output once every three times which is commendable.**\n",
    "\n"
   ]
  },
  {
   "cell_type": "code",
   "execution_count": 154,
   "metadata": {
    "colab": {
     "base_uri": "https://localhost:8080/",
     "height": 17
    },
    "colab_type": "code",
    "id": "RkFTGCnrT_XM",
    "outputId": "003902e2-4b6a-4998-dd4c-1a98e0374e48"
   },
   "outputs": [
    {
     "data": {
      "text/html": [],
      "text/plain": [
       "<IPython.core.display.HTML object>"
      ]
     },
     "metadata": {
      "tags": []
     },
     "output_type": "display_data"
    },
    {
     "data": {
      "text/html": [],
      "text/plain": [
       "<IPython.core.display.HTML object>"
      ]
     },
     "metadata": {
      "tags": []
     },
     "output_type": "display_data"
    },
    {
     "data": {
      "text/html": [],
      "text/plain": [
       "<IPython.core.display.HTML object>"
      ]
     },
     "metadata": {
      "tags": []
     },
     "output_type": "display_data"
    }
   ],
   "source": [
    "# Define the path where the data is and where you want your models to be stored\n",
    "pth = base_dir + '/Analytics_Vidhya_Identify_The_Sentiment'\n",
    "\n",
    "# Create a Databunch for the language model\n",
    "data = TextLMDataBunch.from_df(path = pth, train_df = train, valid_df = valid, test_df = test, text_cols = ['tweet'], label_cols = ['label'], bs = 32, min_freq = 2)"
   ]
  },
  {
   "cell_type": "code",
   "execution_count": 0,
   "metadata": {
    "colab": {},
    "colab_type": "code",
    "id": "0z0_940uyB3m"
   },
   "outputs": [],
   "source": [
    "# Create a learner object\n",
    "learn = language_model_learner(data, AWD_LSTM)"
   ]
  },
  {
   "cell_type": "code",
   "execution_count": 156,
   "metadata": {
    "colab": {
     "base_uri": "https://localhost:8080/",
     "height": 374
    },
    "colab_type": "code",
    "id": "Fi5M7eq0zgQS",
    "outputId": "f32ea4f4-274a-416f-9713-9a4fda94b14c"
   },
   "outputs": [
    {
     "data": {
      "text/html": [
       "\n",
       "    <div>\n",
       "        <style>\n",
       "            /* Turns off some styling */\n",
       "            progress {\n",
       "                /* gets rid of default border in Firefox and Opera. */\n",
       "                border: none;\n",
       "                /* Needs to be in here for Safari polyfill so background images work as expected. */\n",
       "                background-size: auto;\n",
       "            }\n",
       "            .progress-bar-interrupted, .progress-bar-interrupted::-webkit-progress-bar {\n",
       "                background: #F44336;\n",
       "            }\n",
       "        </style>\n",
       "      <progress value='0' class='' max='1', style='width:300px; height:20px; vertical-align: middle;'></progress>\n",
       "      0.00% [0/1 00:00<00:00]\n",
       "    </div>\n",
       "    \n",
       "<table border=\"1\" class=\"dataframe\">\n",
       "  <thead>\n",
       "    <tr style=\"text-align: left;\">\n",
       "      <th>epoch</th>\n",
       "      <th>train_loss</th>\n",
       "      <th>valid_loss</th>\n",
       "      <th>accuracy</th>\n",
       "      <th>time</th>\n",
       "    </tr>\n",
       "  </thead>\n",
       "  <tbody>\n",
       "  </tbody>\n",
       "</table><p>\n",
       "\n",
       "    <div>\n",
       "        <style>\n",
       "            /* Turns off some styling */\n",
       "            progress {\n",
       "                /* gets rid of default border in Firefox and Opera. */\n",
       "                border: none;\n",
       "                /* Needs to be in here for Safari polyfill so background images work as expected. */\n",
       "                background-size: auto;\n",
       "            }\n",
       "            .progress-bar-interrupted, .progress-bar-interrupted::-webkit-progress-bar {\n",
       "                background: #F44336;\n",
       "            }\n",
       "        </style>\n",
       "      <progress value='99' class='' max='110', style='width:300px; height:20px; vertical-align: middle;'></progress>\n",
       "      90.00% [99/110 00:07<00:00 8.9421]\n",
       "    </div>\n",
       "    "
      ],
      "text/plain": [
       "<IPython.core.display.HTML object>"
      ]
     },
     "metadata": {
      "tags": []
     },
     "output_type": "display_data"
    },
    {
     "name": "stdout",
     "output_type": "stream",
     "text": [
      "LR Finder is complete, type {learner_name}.recorder.plot() to see the graph.\n"
     ]
    },
    {
     "data": {
      "image/png": "[encoded data removed]",
      "text/plain": [
       "<Figure size 432x288 with 1 Axes>"
      ]
     },
     "metadata": {
      "tags": []
     },
     "output_type": "display_data"
    }
   ],
   "source": [
    "learn.lr_find()                                                                 # Find a suitable learning rate \n",
    "learn.recorder.plot()                                                           # Plot it to select one"
   ]
  },
  {
   "cell_type": "code",
   "execution_count": 0,
   "metadata": {
    "colab": {
     "base_uri": "https://localhost:8080/",
     "height": 124
    },
    "colab_type": "code",
    "id": "k8xhMHgJ5KW6",
    "outputId": "f643022b-bdff-4d4a-e30b-3aa74f364533"
   },
   "outputs": [
    {
     "data": {
      "text/html": [
       "\n",
       "    <div>\n",
       "        <style>\n",
       "            /* Turns off some styling */\n",
       "            progress {\n",
       "                /* gets rid of default border in Firefox and Opera. */\n",
       "                border: none;\n",
       "                /* Needs to be in here for Safari polyfill so background images work as expected. */\n",
       "                background-size: auto;\n",
       "            }\n",
       "            .progress-bar-interrupted, .progress-bar-interrupted::-webkit-progress-bar {\n",
       "                background: #F44336;\n",
       "            }\n",
       "        </style>\n",
       "      <progress value='1' class='' max='5', style='width:300px; height:20px; vertical-align: middle;'></progress>\n",
       "      20.00% [1/5 00:09<00:36]\n",
       "    </div>\n",
       "    \n",
       "<table border=\"1\" class=\"dataframe\">\n",
       "  <thead>\n",
       "    <tr style=\"text-align: left;\">\n",
       "      <th>epoch</th>\n",
       "      <th>train_loss</th>\n",
       "      <th>valid_loss</th>\n",
       "      <th>accuracy</th>\n",
       "      <th>time</th>\n",
       "    </tr>\n",
       "  </thead>\n",
       "  <tbody>\n",
       "    <tr>\n",
       "      <td>0</td>\n",
       "      <td>5.849698</td>\n",
       "      <td>4.778185</td>\n",
       "      <td>0.302541</td>\n",
       "      <td>00:09</td>\n",
       "    </tr>\n",
       "  </tbody>\n",
       "</table><p>\n",
       "\n",
       "    <div>\n",
       "        <style>\n",
       "            /* Turns off some styling */\n",
       "            progress {\n",
       "                /* gets rid of default border in Firefox and Opera. */\n",
       "                border: none;\n",
       "                /* Needs to be in here for Safari polyfill so background images work as expected. */\n",
       "                background-size: auto;\n",
       "            }\n",
       "            .progress-bar-interrupted, .progress-bar-interrupted::-webkit-progress-bar {\n",
       "                background: #F44336;\n",
       "            }\n",
       "        </style>\n",
       "      <progress value='99' class='' max='110', style='width:300px; height:20px; vertical-align: middle;'></progress>\n",
       "      90.00% [99/110 00:07<00:00 4.7633]\n",
       "    </div>\n",
       "    "
      ],
      "text/plain": [
       "<IPython.core.display.HTML object>"
      ]
     },
     "metadata": {
      "tags": []
     },
     "output_type": "display_data"
    }
   ],
   "source": [
    "learn.fit_one_cycle(5, 1e-3, moms = (.7,.6))                                    # Decide a nice learning rate from the curve above and train the model"
   ]
  },
  {
   "cell_type": "code",
   "execution_count": 0,
   "metadata": {
    "colab": {},
    "colab_type": "code",
    "id": "Q48NxiXP5bXG"
   },
   "outputs": [],
   "source": [
    "# Do the same thing as before but by unfreezing all the layers so that they all get trained this time\n",
    "learn.unfreeze()\n",
    "learn.lr_find()\n",
    "learn.recorder.plot()"
   ]
  },
  {
   "cell_type": "code",
   "execution_count": 0,
   "metadata": {
    "colab": {},
    "colab_type": "code",
    "id": "xWRNvKmaXZzC"
   },
   "outputs": [],
   "source": [
    "learn.fit_one_cycle(10, 1e-4, moms = (.8,.7))"
   ]
  },
  {
   "cell_type": "code",
   "execution_count": 0,
   "metadata": {
    "colab": {},
    "colab_type": "code",
    "id": "o8HmP5a-5rTV"
   },
   "outputs": [],
   "source": [
    "# Save this model as it'll serve as the source for word's weight vectors when defining a text classification model\n",
    "learn.save_encoder('fine_tuned.pkl')"
   ]
  },
  {
   "cell_type": "markdown",
   "metadata": {
    "colab_type": "text",
    "id": "ETXpSBtS3USY"
   },
   "source": [
    "# Text Classification Model\n",
    "\n",
    "Now that you've created a learner model which has learned quite a bit in the world of tweets, you are ready to build a classifier.\n",
    "___\n",
    "\n",
    "To provide data to the classifier model for training, we can use the `TextClasDataBunch` class and use the `from_df` method to load the dataframes that we built earlier as train, test and validation dataloaders.\n",
    "\n",
    "**Note: It's important here that you also define the vocabulary based on the language model learner's vocabulary. It must be the same!**\n",
    "___\n",
    "\n",
    "Learning process is very much similar to the language model learner. A slight difference here is that we first unfreeze only the last layer, train for a few epochs, then unfreeze last two layers and train for several epochs and eventually unfreeze all the layers and train for several epochs. This approach, Jeremy says works best in his empirical experience. So let's stick with it.\n",
    "___\n",
    "The `get_preds` method helps obtain a prediction for every sequence that it's passed. it returns a probability distribution which in this case is simply two values i.e. $P(Sentiment=-|Tweet) \\  \\& \\ P(Sentiment = +|Tweet)$. We have to select an appropriate threshold to classify the sentiment positive or negative and take a decision.\n",
    "\n",
    "\n",
    "Once we obtain the predictions on the validation dataset, we can plot an ROC-AUC Curve and find out the best threshold for the problem by determining the point where the $f_1$ score is the best out of all the thresholds. The $f_1$ gives weightage to both Recall and Precision and hence is a decent metric to look for when looking for a good threshold value."
   ]
  },
  {
   "cell_type": "code",
   "execution_count": 0,
   "metadata": {
    "colab": {},
    "colab_type": "code",
    "id": "eM5JW_lz5wd7"
   },
   "outputs": [],
   "source": [
    "data_classification = TextClasDataBunch.from_df(path = pth, train_df = train, valid_df = valid, test_df = test, text_cols=['tweet'], label_cols = ['label'], vocab = data.vocab, bs = 32)"
   ]
  },
  {
   "cell_type": "code",
   "execution_count": 0,
   "metadata": {
    "colab": {},
    "colab_type": "code",
    "id": "v4k1h6UF6hCy"
   },
   "outputs": [],
   "source": [
    "classification_learner = text_classifier_learner(data_classification, arch = AWD_LSTM, drop_mult=0.4)\n",
    "classification_learner.load_encoder('fine_tuned.pkl')\n",
    "classification_learner.freeze()"
   ]
  },
  {
   "cell_type": "code",
   "execution_count": 0,
   "metadata": {
    "colab": {},
    "colab_type": "code",
    "id": "LL0Ue7NwYvtg"
   },
   "outputs": [],
   "source": [
    "classification_learner.lr_find()"
   ]
  },
  {
   "cell_type": "code",
   "execution_count": 0,
   "metadata": {
    "colab": {},
    "colab_type": "code",
    "id": "XxRDZitIbDFV"
   },
   "outputs": [],
   "source": [
    "classification_learner.recorder.plot()"
   ]
  },
  {
   "cell_type": "code",
   "execution_count": 0,
   "metadata": {
    "colab": {},
    "colab_type": "code",
    "id": "wMErEDkdbG5b"
   },
   "outputs": [],
   "source": [
    "classification_learner.fit_one_cycle(3, 1e-3, moms = (.8, .7))"
   ]
  },
  {
   "cell_type": "code",
   "execution_count": 0,
   "metadata": {
    "colab": {},
    "colab_type": "code",
    "id": "123Cwvl35-Xb"
   },
   "outputs": [],
   "source": [
    "classification_learner.lr_find()\n",
    "classification_learner.recorder.plot()"
   ]
  },
  {
   "cell_type": "code",
   "execution_count": 0,
   "metadata": {
    "colab": {},
    "colab_type": "code",
    "id": "szOHe7WabRSh"
   },
   "outputs": [],
   "source": [
    "classification_learner.freeze_to(-2)\n",
    "classification_learner.fit_one_cycle(3, slice(1e-5/(2.6**4), 1e-5), moms = (.8, .7))"
   ]
  },
  {
   "cell_type": "code",
   "execution_count": 0,
   "metadata": {
    "colab": {},
    "colab_type": "code",
    "id": "X6_PYYeWboR4"
   },
   "outputs": [],
   "source": [
    "classification_learner.unfreeze()"
   ]
  },
  {
   "cell_type": "code",
   "execution_count": 0,
   "metadata": {
    "colab": {},
    "colab_type": "code",
    "id": "Xz9iCyoPmsgd"
   },
   "outputs": [],
   "source": [
    "classification_learner.lr_find()\n",
    "classification_learner.recorder.plot()"
   ]
  },
  {
   "cell_type": "code",
   "execution_count": 0,
   "metadata": {
    "colab": {},
    "colab_type": "code",
    "id": "lLBIHpDUbtTs"
   },
   "outputs": [],
   "source": [
    "classification_learner.fit_one_cycle(5, slice(5e-6/(2.6**4), 5e-6), moms = (.8, .7))"
   ]
  },
  {
   "cell_type": "code",
   "execution_count": 0,
   "metadata": {
    "colab": {},
    "colab_type": "code",
    "id": "NhX4aHdgbzI9"
   },
   "outputs": [],
   "source": [
    "# Evaluating the model on validation dataset\n",
    "probs, labels = classification_learner.get_preds(ds_type=DatasetType.Valid, ordered = True)"
   ]
  },
  {
   "cell_type": "code",
   "execution_count": 0,
   "metadata": {
    "colab": {},
    "colab_type": "code",
    "id": "o5pLOYiD7WuE"
   },
   "outputs": [],
   "source": [
    "# Get the probabilities for positive class i.e. class 1 and all the labels to our cpu from GPU\n",
    "labels = labels.numpy()\n",
    "pos_class_probs = [i[1] for i in probs.numpy()]"
   ]
  },
  {
   "cell_type": "code",
   "execution_count": 0,
   "metadata": {
    "colab": {},
    "colab_type": "code",
    "id": "ScrCqcxN7Kuf"
   },
   "outputs": [],
   "source": [
    "# Compute the statistics False Positive Rate, True Positive Rate for different thresholds to \n",
    "# Draw an ROC Curve and determine the quality of classifier built.\n",
    "fpr, tpr, thr = metrics.roc_curve(labels, pos_class_probs)\n",
    "auc = metrics.auc(fpr, tpr)\n",
    "\n",
    "rcParams['figure.figsize'] = 8, 5\n",
    "plt.figure()\n",
    "plt.plot(fpr, tpr, color = 'green', label = f\"ROC Curve, AUC: {np.round(auc, 4)}\")\n",
    "plt.xlim([-.05,1.05])\n",
    "plt.ylim([-.05,1.05])\n",
    "plt.title(\"Receiver Operating Characteristics with +ve Class = 1\")\n",
    "plt.legend(loc = 'lower right')\n",
    "plt.show()"
   ]
  },
  {
   "cell_type": "code",
   "execution_count": 0,
   "metadata": {
    "colab": {},
    "colab_type": "code",
    "id": "UOVYVFmB9xCe"
   },
   "outputs": [],
   "source": [
    "# Come across the threshold with best f-1 score and select that threshold\n",
    "f1_ = []\n",
    "acc = []\n",
    "for t in thr:\n",
    "    preds = [1 if i > t else 0 for i in pos_class_probs]\n",
    "    f1_.append(metrics.f1_score(labels, preds))\n",
    "    acc.append(metrics.accuracy_score(labels, preds))\n",
    "\n",
    "metrics_ = pd.DataFrame({'FPR':fpr, 'TPR': tpr, 'f1-score':f1_, 'accuracy':acc, 'Threshold':thr})"
   ]
  },
  {
   "cell_type": "code",
   "execution_count": 0,
   "metadata": {
    "colab": {},
    "colab_type": "code",
    "id": "DqEHRa0J-mnO"
   },
   "outputs": [],
   "source": [
    "metrics_[metrics_['f1-score'] == metrics_['f1-score'].max()]"
   ]
  },
  {
   "cell_type": "code",
   "execution_count": 0,
   "metadata": {
    "colab": {},
    "colab_type": "code",
    "id": "NSz0dr1xERcn"
   },
   "outputs": [],
   "source": [
    "metrics_[metrics_['accuracy'] == metrics_['accuracy'].max()]"
   ]
  },
  {
   "cell_type": "code",
   "execution_count": 0,
   "metadata": {
    "colab": {},
    "colab_type": "code",
    "id": "OZwQbMI_c2u6"
   },
   "outputs": [],
   "source": [
    "# Predict on test dataset and use the threshold obtained above for classifying the sentiments\n",
    "# based on the obtained probability distribution\n",
    "probs, labels = classification_learner.get_preds(ds_type=DatasetType.Test, ordered = True)\n",
    "\n",
    "thresh = 0.5479\n",
    "preds = []\n",
    "for zero_prob, one_prob in probs:\n",
    "    if thresh > zero_prob:\n",
    "    preds.append(1)\n",
    "    else:\n",
    "    preds.append(0)"
   ]
  },
  {
   "cell_type": "code",
   "execution_count": 0,
   "metadata": {
    "colab": {},
    "colab_type": "code",
    "id": "mkT8j_lOdFQk"
   },
   "outputs": [],
   "source": [
    "preds_ = pd.DataFrame({'id': list(test['id']), 'label': preds})\n",
    "preds_.to_csv('Predictions-1.csv', index = False)"
   ]
  }
 ],
 "metadata": {
  "accelerator": "GPU",
  "colab": {
   "collapsed_sections": [],
   "name": "Analytics_Vidhya_Identify_The_Sentiment.ipynb",
   "provenance": [],
   "toc_visible": true
  },
  "kernelspec": {
   "display_name": "Python 3",
   "language": "python",
   "name": "python3"
  },
  "language_info": {
   "codemirror_mode": {
    "name": "ipython",
    "version": 3
   },
   "file_extension": ".py",
   "mimetype": "text/x-python",
   "name": "python",
   "nbconvert_exporter": "python",
   "pygments_lexer": "ipython3",
   "version": "3.6.8"
  },
  "latex_envs": {
   "LaTeX_envs_menu_present": true,
   "autoclose": false,
   "autocomplete": true,
   "bibliofile": "biblio.bib",
   "cite_by": "apalike",
   "current_citInitial": 1,
   "eqLabelWithNumbers": true,
   "eqNumInitial": 1,
   "hotkeys": {
    "equation": "Ctrl-E",
    "itemize": "Ctrl-I"
   },
   "labels_anchors": false,
   "latex_user_defs": false,
   "report_style_numbering": false,
   "user_envs_cfg": false
  },
  "toc": {
   "base_numbering": 1,
   "nav_menu": {},
   "number_sections": true,
   "sideBar": true,
   "skip_h1_title": false,
   "title_cell": "Table of Contents",
   "title_sidebar": "Contents",
   "toc_cell": false,
   "toc_position": {},
   "toc_section_display": true,
   "toc_window_display": false
  }
 },
 "nbformat": 4,
 "nbformat_minor": 1
}
